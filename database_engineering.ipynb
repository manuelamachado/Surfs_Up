{
 "cells": [
  {
   "cell_type": "markdown",
   "metadata": {},
   "source": [
    "## Database Engineering"
   ]
  },
  {
   "cell_type": "code",
   "execution_count": 8,
   "metadata": {
    "collapsed": true
   },
   "outputs": [],
   "source": [
    "#import dependencies for data engineering\n",
    "import pandas as pd\n",
    "import numpy as np\n",
    "import os\n",
    "# Python SQL toolkit and Object Relational Mapper\n",
    "import sqlalchemy\n",
    "from sqlalchemy import create_engine, MetaData,inspect, func\n",
    "from sqlalchemy.ext.declarative import declarative_base\n",
    "from sqlalchemy import Column, Integer, String, Numeric, Text, Float"
   ]
  },
  {
   "cell_type": "code",
   "execution_count": 9,
   "metadata": {
    "collapsed": true
   },
   "outputs": [],
   "source": [
    "# Create an engine to a database file called `demographics.sqlite` in the output directory\n",
    "engine = create_engine(\"sqlite:///output/hawaii.sqlite\")\n",
    "#connect to the engine\n",
    "conn=engine.connect()\n",
    "\n",
    "# Use `declarative_base` from SQLAlchemy to model the measurement and station table as an ORM class\n",
    "Base = declarative_base()"
   ]
  },
  {
   "cell_type": "code",
   "execution_count": 10,
   "metadata": {
    "collapsed": true
   },
   "outputs": [],
   "source": [
    "#create class Measurement\n",
    "class Measurement(Base):\n",
    "    __tablename__='measurement'\n",
    "    id=Column(Integer, primary_key=True)\n",
    "    station=Column(Text)\n",
    "    date=Column(Text)\n",
    "    prcp=Column(Float)\n",
    "    tobs=Column(Float)\n",
    "    def __repr__(self):\n",
    "        return f\"id={self.id}, name={self.date}\"\n",
    "# create class Station\n",
    "class Station(Base):\n",
    "    __tablename__='station'\n",
    "    id=Column(Integer, primary_key=True)\n",
    "    name=Column(Text)\n",
    "    station=Column(Text)\n",
    "    latitude=Column(Float)\n",
    "    longitude=Column(Float)\n",
    "    elevation=Column(Float)\n",
    "    def __repr__(self):\n",
    "        return f\"id={self.id}, name={self.station}\"\n",
    "Base.metadata.create_all(engine)"
   ]
  },
  {
   "cell_type": "code",
   "execution_count": 11,
   "metadata": {},
   "outputs": [
    {
     "data": {
      "text/plain": [
       "['measurement', 'station']"
      ]
     },
     "execution_count": 11,
     "metadata": {},
     "output_type": "execute_result"
    }
   ],
   "source": [
    "# check if tables are created\n",
    "inspect(engine).get_table_names()"
   ]
  },
  {
   "cell_type": "code",
   "execution_count": 14,
   "metadata": {},
   "outputs": [],
   "source": [
    "# Load the cleaned csv file into a pandas dataframe\n",
    "data_meas = pd.read_csv('Output/cleaned_hawaii_measurements.csv').to_dict(orient='records')\n",
    "data_stat = pd.read_csv('Output/cleaned_hawaii_stations.csv').to_dict(orient='records')"
   ]
  },
  {
   "cell_type": "code",
   "execution_count": 15,
   "metadata": {},
   "outputs": [
    {
     "data": {
      "text/plain": [
       "<sqlalchemy.engine.result.ResultProxy at 0x10bced208>"
      ]
     },
     "execution_count": 15,
     "metadata": {},
     "output_type": "execute_result"
    }
   ],
   "source": [
    "# Use MetaData from SQLAlchemy to reflect the tables\n",
    "metadata = MetaData(bind=engine)\n",
    "#refer table_meas and table_stat as two objects in python\n",
    "table_meas = sqlalchemy.Table('measurement', metadata, autoload=True)\n",
    "table_stat=sqlalchemy.Table('station',metadata,autoload=True)\n",
    "conn.execute(table_meas.insert(), data_meas)\n",
    "conn.execute(table_stat.insert(),data_stat)"
   ]
  },
  {
   "cell_type": "code",
   "execution_count": 16,
   "metadata": {},
   "outputs": [
    {
     "data": {
      "text/plain": [
       "[(1, 'USC00519397', '2010-01-01', 0.08, 65.0),\n",
       " (2, 'USC00519397', '2010-01-02', 0.0, 63.0),\n",
       " (3, 'USC00519397', '2010-01-03', 0.0, 74.0),\n",
       " (4, 'USC00519397', '2010-01-04', 0.0, 76.0),\n",
       " (5, 'USC00519397', '2010-01-07', 0.06, 70.0)]"
      ]
     },
     "execution_count": 16,
     "metadata": {},
     "output_type": "execute_result"
    }
   ],
   "source": [
    "#check if data is inserted\n",
    "conn.execute(\"select * from measurement limit 5\").fetchall()"
   ]
  },
  {
   "cell_type": "code",
   "execution_count": 17,
   "metadata": {},
   "outputs": [
    {
     "data": {
      "text/plain": [
       "[(1, 'WAIKIKI 717.2, HI US', 'USC00519397', 21.2716, -157.8168, 3.0),\n",
       " (2, 'KANEOHE 838.1, HI US', 'USC00513117', 21.4234, -157.8015, 14.6),\n",
       " (3, 'KUALOA RANCH HEADQUARTERS 886.9, HI US', 'USC00514830', 21.5213, -157.8374, 7.0),\n",
       " (4, 'PEARL CITY, HI US', 'USC00517948', 21.3934, -157.9751, 11.9),\n",
       " (5, 'UPPER WAHIAWA 874.3, HI US', 'USC00518838', 21.4992, -158.0111, 306.6)]"
      ]
     },
     "execution_count": 17,
     "metadata": {},
     "output_type": "execute_result"
    }
   ],
   "source": [
    "conn.execute(\"select * from station limit 5\").fetchall()"
   ]
  },
  {
   "cell_type": "code",
   "execution_count": null,
   "metadata": {
    "collapsed": true
   },
   "outputs": [],
   "source": []
  }
 ],
 "metadata": {
  "kernelspec": {
   "display_name": "Python [conda env:PythonData]",
   "language": "python",
   "name": "conda-env-PythonData-py"
  },
  "language_info": {
   "codemirror_mode": {
    "name": "ipython",
    "version": 3
   },
   "file_extension": ".py",
   "mimetype": "text/x-python",
   "name": "python",
   "nbconvert_exporter": "python",
   "pygments_lexer": "ipython3",
   "version": "3.6.4"
  }
 },
 "nbformat": 4,
 "nbformat_minor": 2
}
